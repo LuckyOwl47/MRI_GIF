{
 "cells": [
  {
   "cell_type": "code",
   "execution_count": 7,
   "id": "83265f49-e719-4568-a082-c5ef053e8972",
   "metadata": {},
   "outputs": [
    {
     "name": "stdout",
     "output_type": "stream",
     "text": [
      "Requirement already satisfied: tensorflow in /Library/Frameworks/Python.framework/Versions/3.11/lib/python3.11/site-packages (2.13.0)\n",
      "Requirement already satisfied: tensorflow-macos==2.13.0 in /Library/Frameworks/Python.framework/Versions/3.11/lib/python3.11/site-packages (from tensorflow) (2.13.0)\n",
      "Requirement already satisfied: absl-py>=1.0.0 in /Library/Frameworks/Python.framework/Versions/3.11/lib/python3.11/site-packages (from tensorflow-macos==2.13.0->tensorflow) (1.4.0)\n",
      "Requirement already satisfied: astunparse>=1.6.0 in /Library/Frameworks/Python.framework/Versions/3.11/lib/python3.11/site-packages (from tensorflow-macos==2.13.0->tensorflow) (1.6.3)\n",
      "Requirement already satisfied: flatbuffers>=23.1.21 in /Library/Frameworks/Python.framework/Versions/3.11/lib/python3.11/site-packages (from tensorflow-macos==2.13.0->tensorflow) (23.5.26)\n",
      "Requirement already satisfied: gast<=0.4.0,>=0.2.1 in /Library/Frameworks/Python.framework/Versions/3.11/lib/python3.11/site-packages (from tensorflow-macos==2.13.0->tensorflow) (0.4.0)\n",
      "Requirement already satisfied: google-pasta>=0.1.1 in /Library/Frameworks/Python.framework/Versions/3.11/lib/python3.11/site-packages (from tensorflow-macos==2.13.0->tensorflow) (0.2.0)\n",
      "Requirement already satisfied: h5py>=2.9.0 in /Library/Frameworks/Python.framework/Versions/3.11/lib/python3.11/site-packages (from tensorflow-macos==2.13.0->tensorflow) (3.9.0)\n",
      "Requirement already satisfied: libclang>=13.0.0 in /Library/Frameworks/Python.framework/Versions/3.11/lib/python3.11/site-packages (from tensorflow-macos==2.13.0->tensorflow) (16.0.6)\n",
      "Requirement already satisfied: numpy<=1.24.3,>=1.22 in /Library/Frameworks/Python.framework/Versions/3.11/lib/python3.11/site-packages (from tensorflow-macos==2.13.0->tensorflow) (1.24.3)\n",
      "Requirement already satisfied: opt-einsum>=2.3.2 in /Library/Frameworks/Python.framework/Versions/3.11/lib/python3.11/site-packages (from tensorflow-macos==2.13.0->tensorflow) (3.3.0)\n",
      "Requirement already satisfied: packaging in /Library/Frameworks/Python.framework/Versions/3.11/lib/python3.11/site-packages (from tensorflow-macos==2.13.0->tensorflow) (23.1)\n",
      "Requirement already satisfied: protobuf!=4.21.0,!=4.21.1,!=4.21.2,!=4.21.3,!=4.21.4,!=4.21.5,<5.0.0dev,>=3.20.3 in /Library/Frameworks/Python.framework/Versions/3.11/lib/python3.11/site-packages (from tensorflow-macos==2.13.0->tensorflow) (4.24.3)\n",
      "Requirement already satisfied: setuptools in /Library/Frameworks/Python.framework/Versions/3.11/lib/python3.11/site-packages (from tensorflow-macos==2.13.0->tensorflow) (65.5.0)\n",
      "Requirement already satisfied: six>=1.12.0 in /Library/Frameworks/Python.framework/Versions/3.11/lib/python3.11/site-packages (from tensorflow-macos==2.13.0->tensorflow) (1.16.0)\n",
      "Requirement already satisfied: termcolor>=1.1.0 in /Library/Frameworks/Python.framework/Versions/3.11/lib/python3.11/site-packages (from tensorflow-macos==2.13.0->tensorflow) (2.3.0)\n",
      "Requirement already satisfied: typing-extensions<4.6.0,>=3.6.6 in /Library/Frameworks/Python.framework/Versions/3.11/lib/python3.11/site-packages (from tensorflow-macos==2.13.0->tensorflow) (4.5.0)\n",
      "Requirement already satisfied: wrapt>=1.11.0 in /Library/Frameworks/Python.framework/Versions/3.11/lib/python3.11/site-packages (from tensorflow-macos==2.13.0->tensorflow) (1.15.0)\n",
      "Requirement already satisfied: grpcio<2.0,>=1.24.3 in /Library/Frameworks/Python.framework/Versions/3.11/lib/python3.11/site-packages (from tensorflow-macos==2.13.0->tensorflow) (1.58.0)\n",
      "Requirement already satisfied: tensorboard<2.14,>=2.13 in /Library/Frameworks/Python.framework/Versions/3.11/lib/python3.11/site-packages (from tensorflow-macos==2.13.0->tensorflow) (2.13.0)\n",
      "Requirement already satisfied: tensorflow-estimator<2.14,>=2.13.0 in /Library/Frameworks/Python.framework/Versions/3.11/lib/python3.11/site-packages (from tensorflow-macos==2.13.0->tensorflow) (2.13.0)\n",
      "Requirement already satisfied: keras<2.14,>=2.13.1 in /Library/Frameworks/Python.framework/Versions/3.11/lib/python3.11/site-packages (from tensorflow-macos==2.13.0->tensorflow) (2.13.1)\n",
      "Requirement already satisfied: wheel<1.0,>=0.23.0 in /Library/Frameworks/Python.framework/Versions/3.11/lib/python3.11/site-packages (from astunparse>=1.6.0->tensorflow-macos==2.13.0->tensorflow) (0.41.2)\n",
      "Requirement already satisfied: google-auth<3,>=1.6.3 in /Library/Frameworks/Python.framework/Versions/3.11/lib/python3.11/site-packages (from tensorboard<2.14,>=2.13->tensorflow-macos==2.13.0->tensorflow) (2.22.0)\n",
      "Requirement already satisfied: google-auth-oauthlib<1.1,>=0.5 in /Library/Frameworks/Python.framework/Versions/3.11/lib/python3.11/site-packages (from tensorboard<2.14,>=2.13->tensorflow-macos==2.13.0->tensorflow) (1.0.0)\n",
      "Requirement already satisfied: markdown>=2.6.8 in /Library/Frameworks/Python.framework/Versions/3.11/lib/python3.11/site-packages (from tensorboard<2.14,>=2.13->tensorflow-macos==2.13.0->tensorflow) (3.4.4)\n",
      "Requirement already satisfied: requests<3,>=2.21.0 in /Library/Frameworks/Python.framework/Versions/3.11/lib/python3.11/site-packages (from tensorboard<2.14,>=2.13->tensorflow-macos==2.13.0->tensorflow) (2.31.0)\n",
      "Requirement already satisfied: tensorboard-data-server<0.8.0,>=0.7.0 in /Library/Frameworks/Python.framework/Versions/3.11/lib/python3.11/site-packages (from tensorboard<2.14,>=2.13->tensorflow-macos==2.13.0->tensorflow) (0.7.1)\n",
      "Requirement already satisfied: werkzeug>=1.0.1 in /Library/Frameworks/Python.framework/Versions/3.11/lib/python3.11/site-packages (from tensorboard<2.14,>=2.13->tensorflow-macos==2.13.0->tensorflow) (2.3.7)\n",
      "Requirement already satisfied: cachetools<6.0,>=2.0.0 in /Library/Frameworks/Python.framework/Versions/3.11/lib/python3.11/site-packages (from google-auth<3,>=1.6.3->tensorboard<2.14,>=2.13->tensorflow-macos==2.13.0->tensorflow) (5.3.1)\n",
      "Requirement already satisfied: pyasn1-modules>=0.2.1 in /Library/Frameworks/Python.framework/Versions/3.11/lib/python3.11/site-packages (from google-auth<3,>=1.6.3->tensorboard<2.14,>=2.13->tensorflow-macos==2.13.0->tensorflow) (0.3.0)\n",
      "Requirement already satisfied: rsa<5,>=3.1.4 in /Library/Frameworks/Python.framework/Versions/3.11/lib/python3.11/site-packages (from google-auth<3,>=1.6.3->tensorboard<2.14,>=2.13->tensorflow-macos==2.13.0->tensorflow) (4.9)\n",
      "Requirement already satisfied: urllib3<2.0 in /Library/Frameworks/Python.framework/Versions/3.11/lib/python3.11/site-packages (from google-auth<3,>=1.6.3->tensorboard<2.14,>=2.13->tensorflow-macos==2.13.0->tensorflow) (1.26.16)\n",
      "Requirement already satisfied: requests-oauthlib>=0.7.0 in /Library/Frameworks/Python.framework/Versions/3.11/lib/python3.11/site-packages (from google-auth-oauthlib<1.1,>=0.5->tensorboard<2.14,>=2.13->tensorflow-macos==2.13.0->tensorflow) (1.3.1)\n",
      "Requirement already satisfied: charset-normalizer<4,>=2 in /Library/Frameworks/Python.framework/Versions/3.11/lib/python3.11/site-packages (from requests<3,>=2.21.0->tensorboard<2.14,>=2.13->tensorflow-macos==2.13.0->tensorflow) (3.2.0)\n",
      "Requirement already satisfied: idna<4,>=2.5 in /Library/Frameworks/Python.framework/Versions/3.11/lib/python3.11/site-packages (from requests<3,>=2.21.0->tensorboard<2.14,>=2.13->tensorflow-macos==2.13.0->tensorflow) (3.4)\n",
      "Requirement already satisfied: certifi>=2017.4.17 in /Library/Frameworks/Python.framework/Versions/3.11/lib/python3.11/site-packages (from requests<3,>=2.21.0->tensorboard<2.14,>=2.13->tensorflow-macos==2.13.0->tensorflow) (2023.7.22)\n",
      "Requirement already satisfied: MarkupSafe>=2.1.1 in /Library/Frameworks/Python.framework/Versions/3.11/lib/python3.11/site-packages (from werkzeug>=1.0.1->tensorboard<2.14,>=2.13->tensorflow-macos==2.13.0->tensorflow) (2.1.3)\n",
      "Requirement already satisfied: pyasn1<0.6.0,>=0.4.6 in /Library/Frameworks/Python.framework/Versions/3.11/lib/python3.11/site-packages (from pyasn1-modules>=0.2.1->google-auth<3,>=1.6.3->tensorboard<2.14,>=2.13->tensorflow-macos==2.13.0->tensorflow) (0.5.0)\n",
      "Requirement already satisfied: oauthlib>=3.0.0 in /Library/Frameworks/Python.framework/Versions/3.11/lib/python3.11/site-packages (from requests-oauthlib>=0.7.0->google-auth-oauthlib<1.1,>=0.5->tensorboard<2.14,>=2.13->tensorflow-macos==2.13.0->tensorflow) (3.2.2)\n",
      "Note: you may need to restart the kernel to use updated packages.\n"
     ]
    }
   ],
   "source": [
    "%pip install tensorflow\n",
    "import os\n",
    "import numpy as np\n",
    "import nibabel as nib\n",
    "from nibabel.testing import data_path\n",
    "import matplotlib.pyplot as plt\n",
    "import cv2\n",
    "from glob import glob\n",
    "import tensorflow as tf\n",
    "import time"
   ]
  },
  {
   "cell_type": "code",
   "execution_count": 8,
   "id": "59a44cfb-07e1-43bf-91f3-9b2939fefd14",
   "metadata": {},
   "outputs": [
    {
     "name": "stdout",
     "output_type": "stream",
     "text": [
      "/Library/Frameworks/Python.framework/Versions/3.11/lib/python3.11/site-packages/nibabel/tests/data\n",
      "/Library/Frameworks/Python.framework/Versions/3.11/lib/python3.11/site-packages/nibabel/tests/data/sub-EXC004_acquired_FA25_reorient_crop.nii.gz\n"
     ]
    }
   ],
   "source": [
    "filename = os.path.join(data_path, 'sub-EXC004_acquired_FA25_reorient_crop.nii.gz')\n",
    "print(data_path)\n",
    "print(filename)"
   ]
  },
  {
   "cell_type": "code",
   "execution_count": 9,
   "id": "c0939b52-4a7c-4234-ba74-54c8e7aacd08",
   "metadata": {},
   "outputs": [
    {
     "name": "stdout",
     "output_type": "stream",
     "text": [
      "tf.Tensor([2. 4. 6.], shape=(3,), dtype=float32)\n"
     ]
    }
   ],
   "source": [
    "# Ensures that the process runs on the GPU\n",
    "gpus = tf.config.experimental.list_physical_devices('GPU')\n",
    "if gpus:\n",
    "    tf.config.experimental.set_memory_growth(gpus[0], True)\n",
    "    tf.config.experimental.set_virtual_device_configuration(\n",
    "        gpus[0],\n",
    "        [tf.config.experimental.VirtualDeviceConfiguration(memory_limit=4096)])\n",
    "\n",
    "# Create a GPU tensor\n",
    "gpu_tensor = tf.constant([1.0, 2.0, 3.0], dtype=tf.float32)\n",
    "\n",
    "# Perform computations on the GPU tensor\n",
    "result = gpu_tensor * 2.0\n",
    "\n",
    "print(result)"
   ]
  },
  {
   "cell_type": "code",
   "execution_count": 10,
   "id": "bc8a11ef-2d63-4703-aa83-838242306edd",
   "metadata": {},
   "outputs": [
    {
     "name": "stdout",
     "output_type": "stream",
     "text": [
      "Finished loading file with shape (1263, 1651, 1148)\n"
     ]
    }
   ],
   "source": [
    "load = nib.load('derivatives/sub-EXC004/processed_data/sub-EXC004_acquired_FA25_reorient_crop.nii.gz')\n",
    "print(f'Finished loading file with shape {load.shape}')"
   ]
  },
  {
   "cell_type": "code",
   "execution_count": 11,
   "id": "2ddb9522-0973-42ce-a486-71d9f65acaae",
   "metadata": {},
   "outputs": [
    {
     "name": "stdout",
     "output_type": "stream",
     "text": [
      "The data has unpacked. \n",
      "Elapsed time: 336.86 seconds\n"
     ]
    }
   ],
   "source": [
    "# Unpack the data\n",
    "# Record the start time\n",
    "start_time = time.time()\n",
    "\n",
    "# Unpacks the data\n",
    "img_data = load.get_fdata()\n",
    "\n",
    "# Record the end time\n",
    "end_time = time.time()\n",
    "\n",
    "# Calculate the elapsed time\n",
    "elapsed_time = end_time - start_time\n",
    "\n",
    "# Print the elapsed time in seconds\n",
    "print(f\"The data has unpacked. \\nElapsed time: {elapsed_time:.2f} seconds\")"
   ]
  },
  {
   "cell_type": "code",
   "execution_count": 5,
   "id": "062fc9d0-cdfd-458d-acc6-7d82c5db9ac0",
   "metadata": {},
   "outputs": [],
   "source": [
    "def x_axis(img, save_folder, dpi):\n",
    "    \n",
    "    # Creates the folder if it doesn't exxist\n",
    "    os.makedirs(save_folder, exist_ok=True)\n",
    "    \n",
    "    #deletes any files in the directory folder if it exists\n",
    "    file_list = os.listdir(save_folder)\n",
    "    for file_name in file_list:\n",
    "        file_path = os.path.join(save_folder, file_name)\n",
    "    '''try:\n",
    "            if os.path.isfile(file_path):\n",
    "                os.unlink(file_path)\n",
    "                file_exit =+ 1\n",
    "            print(f\"{file_exit} image(s) were deleted from the directory.\")\n",
    "        except Exception as e:\n",
    "            print(f\"Error deleting file{file_path}: {e}\")'''\n",
    "            \n",
    "    #the for loop \n",
    "    for i in range(img.shape[0]):\n",
    "        if i == 0:\n",
    "            start_time = time.time()\n",
    "        \n",
    "        #creates the filename for each iteration\n",
    "        filename = os.path.join(save_folder, f'x_file_number_{i}.png')\n",
    "        \n",
    "        #plots the frame in matplotlib, transposed for the correct aspect ratio\n",
    "        plt.axis('off')\n",
    "        plt.style.use('dark_background')\n",
    "        plt.imshow(img[i, :, :].T)\n",
    "        \n",
    "        #sets the quality (dpi= input value)\n",
    "        plt.savefig(filename, dpi=dpi)\n",
    "        #clears memory of plot\n",
    "        plt.cla()\n",
    "    #essentially, this approximates the rendering time by multiplying the time taken for the first iteration with the length of the for-loop\n",
    "        if i == 0: \n",
    "            end_time = time.time()\n",
    "            elapsed_time = end_time - start_time\n",
    "            total_time = (elapsed_time * img.shape[0] / 60) /60\n",
    "            total_total_time = elapsed_time * (img.shape[0] + img.shape[1] + img.shape[2]) / 60 / 60\n",
    "            print(f\"Time taken for the first iteration on the x-axis: {elapsed_time:.2f} seconds. \\nEstimated time for rendering x-axis: {total_time:.2f} hours.\\nEstimated total rendering time: {total_total_time:.2f} hours.\")\n",
    "        if (i + 1) % 10 == 0:\n",
    "            print(f\"{i + 1} frames has now been rendered on the x-axis\")\n",
    "        "
   ]
  },
  {
   "cell_type": "code",
   "execution_count": null,
   "id": "2be43d44-73e6-4007-b5c0-ee128912216f",
   "metadata": {},
   "outputs": [],
   "source": [
    "def y_axis(img, save_folder, dpi):\n",
    "\n",
    "    os.makedirs(save_folder, exist_ok=True)\n",
    "    \n",
    "    #deletes any files in the directory folder\n",
    "    file_list = os.listdir(save_folder)\n",
    "    for file_name in file_list:\n",
    "        file_path = os.path.join(save_folder, file_name)\n",
    "        '''try:\n",
    "            if os.path.isfile(file_path):\n",
    "                os.unlink(file_path)\n",
    "                print(f\"Files were deleted in directory {save_folder}.\")\n",
    "        except Exception as e:\n",
    "            print(f\"Error deleting file{file_path}: {e}\")'''\n",
    "            \n",
    "    #the for loop \n",
    "    for i in range(img.shape[1]):\n",
    "        if i == 0:\n",
    "            start_time = time.time()\n",
    "\n",
    "        #precautionary: creates the folder if it doesn't exist\n",
    "        \n",
    "        \n",
    "        #creates the filename for each iteration\n",
    "        filename = os.path.join(save_folder, f'y_file_number_{i}.png')\n",
    "        \n",
    "        #plots the frame in matplotlib\n",
    "        plt.axis('off')\n",
    "        plt.style.use('dark_background')\n",
    "        plt.imshow(img[:, i, :].T)\n",
    "        \n",
    "        \n",
    "        #sets the quality\n",
    "        plt.savefig(filename, dpi=dpi)\n",
    "        #plt.clf()\n",
    "        plt.close()\n",
    "    #essentially, this approximates the rendering time by multiplying the time taken for the first iteration with the length of the for-loop\n",
    "        if i == 0: \n",
    "            end_time = time.time()\n",
    "            elapsed_time = end_time - start_time\n",
    "            total_time = (elapsed_time * img.shape[0] / 60) /60\n",
    "            total_total_time = elapsed_time * (img.shape[1] + img.shape[2]) / 60 / 60\n",
    "\n",
    "            print(f\"Time taken for the first iteration on the x-axis: {elapsed_time:.2f} seconds. \\nEstimated time for rendering x-axis: {total_time:.2f} hours.\\nEstimated total rendering time: {total_total_time:.2f} hours.\")\n",
    "        if (i + 1) % 10 == 0:\n",
    "            print(f\"{i + 1} frames has now been rendered on the y-axis\")"
   ]
  },
  {
   "cell_type": "code",
   "execution_count": null,
   "id": "e8970681-2a1d-43e5-9ca3-604b7901fae2",
   "metadata": {},
   "outputs": [],
   "source": [
    "def z_axis(img, save_folder, dpi):\n",
    "    \n",
    "    #precautionary: creates the folder if it doesn't exist\n",
    "    os.makedirs(save_folder, exist_ok=True)\n",
    "    \n",
    "    #deletes any files in the directory folder\n",
    "    file_list = os.listdir(save_folder)\n",
    "    for file_name in file_list:\n",
    "        file_path = os.path.join(save_folder, file_name)\n",
    "        '''try:\n",
    "            if os.path.isfile(file_path):\n",
    "                os.unlink(file_path)\n",
    "                print(f\"Files were deleted in directory {save_folder}.\")\n",
    "        except Exception as e:\n",
    "            print(f\"Error deleting file{file_path}: {e}\")'''\n",
    "            \n",
    "    #the for loop \n",
    "    for i in range(img.shape[2]):\n",
    "        #keeps the time for the first iteration\n",
    "        if i == 0:\n",
    "            start_time = time.time()\n",
    "\n",
    "        #creates the filename for each iteration\n",
    "        filename = os.path.join(save_folder, f'y_file_number_{i}.png')\n",
    "        \n",
    "        #plots the frame in matplotlib\n",
    "        plt.axis('off')\n",
    "        plt.style.use('dark_background')\n",
    "        plt.imshow(img[:, :, i])\n",
    "        \n",
    "        \n",
    "        #sets the quality\n",
    "        plt.savefig(filename, dpi=dpi)\n",
    "        #plt.clf()\n",
    "        plt.close()\n",
    "    #essentially, this approximates the rendering time by multiplying the time taken for the first iteration with the length of the for-loop\n",
    "        if i == 0: \n",
    "            end_time = time.time()\n",
    "            elapsed_time = end_time - start_time\n",
    "            total_time = (elapsed_time * img.shape[0] / 60) /60\n",
    "            total_total_time = elapsed_time * (img.shape[2]) / 60 / 60\n",
    "\n",
    "            print(f\"Time taken for the first iteration on the z-axis: {elapsed_time:.2f} seconds. \\nEstimated time for rendering z-axis: {total_time:.2f} hours.\\nEstimated total rendering time: {total_total_time:.2f} hours.\")\n",
    "        if (i + 1) % 10 == 0:\n",
    "            print(f\"{i + 1} frames has now been rendered on the z-axis\")"
   ]
  },
  {
   "cell_type": "code",
   "execution_count": null,
   "id": "484e52e4-c4d0-4bef-b473-10c1ba7727e2",
   "metadata": {},
   "outputs": [
    {
     "name": "stdout",
     "output_type": "stream",
     "text": [
      "Time taken for the first iteration on the x-axis: 136.49 seconds. \n",
      "Estimated time for rendering x-axis: 47.88 hours.\n",
      "Estimated total rendering time: 154.00 hours.\n"
     ]
    }
   ],
   "source": [
    "dpi = 100\n",
    "x_axis(img_data, 'x_axis_frames', dpi)\n",
    "#y_axis(img_data, 'y_axis_frames', dpi)\n",
    "#z_axis(img_data, 'z_axis_frames', dpi)"
   ]
  },
  {
   "cell_type": "code",
   "execution_count": null,
   "id": "242cc1ab-a3f6-4bf9-8236-a10a93da2683",
   "metadata": {},
   "outputs": [],
   "source": []
  }
 ],
 "metadata": {
  "kernelspec": {
   "display_name": "Python 3 (ipykernel)",
   "language": "python",
   "name": "python3"
  },
  "language_info": {
   "codemirror_mode": {
    "name": "ipython",
    "version": 3
   },
   "file_extension": ".py",
   "mimetype": "text/x-python",
   "name": "python",
   "nbconvert_exporter": "python",
   "pygments_lexer": "ipython3",
   "version": "3.11.4"
  }
 },
 "nbformat": 4,
 "nbformat_minor": 5
}
